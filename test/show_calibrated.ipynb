{
 "cells": [
  {
   "cell_type": "code",
   "execution_count": null,
   "id": "88d5f876",
   "metadata": {},
   "outputs": [],
   "source": [
    "import numpy as np\n",
    "from model.camera_model import CameraModel\n",
    "from calib.preprocess import Preprocess\n",
    "from pathlib import Path\n",
    "\n",
    "CCD = 'IMX477'\n",
    "fisheye = False\n",
    "operation_folder = '0617_IMX477_5000'\n",
    "CHECKERBOARD = (8,11)"
   ]
  },
  {
   "cell_type": "code",
   "execution_count": 2,
   "id": "182dd800",
   "metadata": {},
   "outputs": [
    {
     "name": "stdout",
     "output_type": "stream",
     "text": [
      "Loading camera model at datasets\\calibration_data\\single_no fix.npz\n",
      "\n",
      "CCD_type = IMX477\n",
      "image_size = (4056, 3040)\n",
      "is_fisheye = False\n",
      "cm1: \n",
      " [[3.99239162e+03 0.00000000e+00 1.87767550e+03]\n",
      " [0.00000000e+00 3.99221399e+03 1.60518955e+03]\n",
      " [0.00000000e+00 0.00000000e+00 1.00000000e+00]]\n",
      "cd1: \n",
      " [[-5.08339339e-01  3.53270516e-01 -2.37038484e-04 -7.70688493e-05\n",
      "  -1.78475147e-01]]\n",
      "cm2: \n",
      " [[3.98387812e+03 0.00000000e+00 1.96713890e+03]\n",
      " [0.00000000e+00 3.98519784e+03 1.48114130e+03]\n",
      " [0.00000000e+00 0.00000000e+00 1.00000000e+00]]\n",
      "cd2: \n",
      " [[-5.05135618e-01  3.61614451e-01 -2.37092619e-04  1.66236206e-03\n",
      "  -1.95622931e-01]]\n",
      "R: \n",
      " [[ 0.99998418  0.00268304  0.00494291]\n",
      " [-0.00265584  0.99998134 -0.00550201]\n",
      " [-0.00495758  0.0054888   0.99997265]]\n",
      "T: \n",
      " [[-2.00553226e+02]\n",
      " [ 1.43538455e+00]\n",
      " [ 1.90726804e-01]]\n"
     ]
    }
   ],
   "source": [
    "\n",
    "cam_path = Path(\"datasets\") / 'calibration_data' / \"single_no fix.npz\"\n",
    "camera = CameraModel.load_model(cam_path)\n",
    "print(camera)"
   ]
  },
  {
   "cell_type": "code",
   "execution_count": 1,
   "id": "90c756d4",
   "metadata": {},
   "outputs": [
    {
     "name": "stdout",
     "output_type": "stream",
     "text": [
      "Loading camera model at datasets\\calibration_data\\sbs_no fix.npz\n",
      "\n",
      "CCD_type = IMX477\n",
      "image_size = (4056, 3040)\n",
      "is_fisheye = False\n",
      "cm1: \n",
      " [[3.99239583e+03 0.00000000e+00 1.87765520e+03]\n",
      " [0.00000000e+00 3.99221781e+03 1.60518512e+03]\n",
      " [0.00000000e+00 0.00000000e+00 1.00000000e+00]]\n",
      "cd1: \n",
      " [[-5.08339677e-01  3.53268800e-01 -2.36867781e-04 -7.61515037e-05\n",
      "  -1.78474014e-01]]\n",
      "cm2: \n",
      " [[3.98388009e+03 0.00000000e+00 1.96711493e+03]\n",
      " [0.00000000e+00 3.98520130e+03 1.48113687e+03]\n",
      " [0.00000000e+00 0.00000000e+00 1.00000000e+00]]\n",
      "cd2: \n",
      " [[-5.05134627e-01  3.61608486e-01 -2.36934542e-04  1.66342454e-03\n",
      "  -1.95609438e-01]]\n",
      "R: \n",
      " [[ 0.99998418  0.00268319  0.00494372]\n",
      " [-0.00265599  0.99998134 -0.00550196]\n",
      " [-0.00495839  0.00548874  0.99997264]]\n",
      "T: \n",
      " [[-2.00553096e+02]\n",
      " [ 1.43535803e+00]\n",
      " [ 1.91560305e-01]]\n"
     ]
    }
   ],
   "source": [
    "cam_path = Path(\"datasets\") / 'calibration_data' / \"sbs_no fix.npz\"\n",
    "camera = CameraModel.load_model(cam_path)\n",
    "print(camera)"
   ]
  },
  {
   "cell_type": "code",
   "execution_count": 3,
   "id": "01188330",
   "metadata": {},
   "outputs": [
    {
     "name": "stdout",
     "output_type": "stream",
     "text": [
      "Loading camera model at datasets\\calibration_data\\single_fix.npz\n",
      "\n",
      "CCD_type = IMX477\n",
      "image_size = (4056, 3040)\n",
      "is_fisheye = False\n",
      "cm1: \n",
      " [[3.99211496e+03 0.00000000e+00 1.87258128e+03]\n",
      " [0.00000000e+00 3.99151265e+03 1.56850368e+03]\n",
      " [0.00000000e+00 0.00000000e+00 1.00000000e+00]]\n",
      "cd1: \n",
      " [[-5.03400347e-01  3.39021374e-01  1.65040883e-03  2.94987255e-04\n",
      "  -1.72542792e-01]]\n",
      "cm2: \n",
      " [[3.98314073e+03 0.00000000e+00 1.98184583e+03]\n",
      " [0.00000000e+00 3.98654253e+03 1.45900661e+03]\n",
      " [0.00000000e+00 0.00000000e+00 1.00000000e+00]]\n",
      "cd2: \n",
      " [[-4.97028947e-01  3.17328782e-01  6.47311729e-04  2.60749341e-04\n",
      "  -1.45258983e-01]]\n",
      "R: \n",
      " [[ 0.99999086  0.00329459  0.00272497]\n",
      " [-0.00327128  0.99995838 -0.00851666]\n",
      " [-0.00275292  0.00850767  0.99996002]]\n",
      "T: \n",
      " [[-2.03442991e+02]\n",
      " [ 8.50327406e-01]\n",
      " [ 1.80709802e-01]]\n"
     ]
    }
   ],
   "source": [
    "cam_path = Path(\"datasets\") / 'calibration_data' / \"single_fix.npz\"\n",
    "camera = CameraModel.load_model(cam_path)\n",
    "print(camera)"
   ]
  },
  {
   "cell_type": "code",
   "execution_count": 4,
   "id": "2bea8a69",
   "metadata": {},
   "outputs": [
    {
     "name": "stdout",
     "output_type": "stream",
     "text": [
      "Loading camera model at datasets\\calibration_data\\sbs_fix.npz\n",
      "\n",
      "CCD_type = IMX477\n",
      "image_size = (4056, 3040)\n",
      "is_fisheye = False\n",
      "cm1: \n",
      " [[3.98697789e+03 0.00000000e+00 1.86255973e+03]\n",
      " [0.00000000e+00 3.98601323e+03 1.59688060e+03]\n",
      " [0.00000000e+00 0.00000000e+00 1.00000000e+00]]\n",
      "cd1: \n",
      " [[-5.00607579e-01  3.17047642e-01  1.02962603e-04  9.61176514e-04\n",
      "  -1.34807805e-01]]\n",
      "cm2: \n",
      " [[3.98020696e+03 0.00000000e+00 1.97757426e+03]\n",
      " [0.00000000e+00 3.98107462e+03 1.47896477e+03]\n",
      " [0.00000000e+00 0.00000000e+00 1.00000000e+00]]\n",
      "cd2: \n",
      " [[-4.99436036e-01  3.31475224e-01 -1.75516147e-04  9.31090527e-04\n",
      "  -1.52601547e-01]]\n",
      "R: \n",
      " [[ 9.99995744e-01  2.79149089e-03  8.48117037e-04]\n",
      " [-2.78557476e-03  9.99972325e-01 -6.89849515e-03]\n",
      " [-8.67350652e-04  6.89610330e-03  9.99975845e-01]]\n",
      "T: \n",
      " [[-2.02991135e+02]\n",
      " [ 1.28082536e+00]\n",
      " [ 1.87389575e-01]]\n"
     ]
    }
   ],
   "source": [
    "cam_path = Path(\"datasets\") / 'calibration_data' / \"sbs_fix.npz\"\n",
    "camera = CameraModel.load_model(cam_path)\n",
    "print(camera)"
   ]
  }
 ],
 "metadata": {
  "kernelspec": {
   "display_name": "Python 3 (ipykernel)",
   "language": "python",
   "name": "python3"
  },
  "language_info": {
   "codemirror_mode": {
    "name": "ipython",
    "version": 3
   },
   "file_extension": ".py",
   "mimetype": "text/x-python",
   "name": "python",
   "nbconvert_exporter": "python",
   "pygments_lexer": "ipython3",
   "version": "3.8.8"
  }
 },
 "nbformat": 4,
 "nbformat_minor": 5
}
